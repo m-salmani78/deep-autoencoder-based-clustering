{
  "cells": [
    {
      "cell_type": "markdown",
      "metadata": {
        "id": "lDwonhsghCLP"
      },
      "source": [
        "# DAC: Deep Autoencoder-based Clustering, A General Deep Learning Framework of Representation Learning\n",
        "\n",
        "- **Name:** Mohammad Mahdi Salmani"
      ]
    },
    {
      "cell_type": "markdown",
      "metadata": {
        "id": "3QR71uhLhf2B"
      },
      "source": [
        "## 1. Import Libraries"
      ]
    },
    {
      "cell_type": "code",
      "execution_count": null,
      "metadata": {
        "id": "TK7Fr7aJqZz2"
      },
      "outputs": [],
      "source": [
        "import torch.utils.data\n",
        "import torch.nn as nn\n",
        "import torch.optim as optim\n",
        "import torchvision\n",
        "import torchvision.transforms as transforms"
      ]
    },
    {
      "cell_type": "markdown",
      "metadata": {
        "id": "T9kYBFLahoCX"
      },
      "source": [
        "## 2. Check device"
      ]
    },
    {
      "cell_type": "code",
      "execution_count": null,
      "metadata": {
        "colab": {
          "base_uri": "https://localhost:8080/"
        },
        "id": "-t7kAU85qaZ1",
        "outputId": "3c306404-7d7e-4f6c-88d3-d1a8d4b326c7"
      },
      "outputs": [
        {
          "name": "stdout",
          "output_type": "stream",
          "text": [
            "cpu\n"
          ]
        }
      ],
      "source": [
        "# Check if a GPU is available and set the device accordingly\n",
        "device = torch.device(\"cuda\" if torch.cuda.is_available() else \"cpu\")\n",
        "print(device)"
      ]
    },
    {
      "cell_type": "markdown",
      "metadata": {
        "id": "_D-u3Y7Oh_1c"
      },
      "source": [
        "## 3. Define a custom autoencoder class"
      ]
    },
    {
      "cell_type": "code",
      "execution_count": null,
      "metadata": {
        "id": "E2ViHnZSqfcl"
      },
      "outputs": [],
      "source": [
        "class CustomAutoencoder(nn.Module):\n",
        "    def __init__(self):\n",
        "        super(CustomAutoencoder, self).__init__()\n",
        "        self.normalize = nn.BatchNorm1d(784)\n",
        "        # Encoder layers\n",
        "        self.encoder = nn.Sequential(\n",
        "            nn.Linear(784, 512),\n",
        "            nn.ReLU(),\n",
        "            nn.Tanh(),\n",
        "            nn.Linear(512, 128),\n",
        "            nn.ReLU(),\n",
        "            nn.Tanh(),\n",
        "            nn.Linear(128, 32),\n",
        "            nn.Tanh(),\n",
        "            nn.Linear(32, 10),\n",
        "        )\n",
        "\n",
        "        # Decoder layers\n",
        "        self.decoder = nn.Sequential(\n",
        "            nn.Linear(10, 32),\n",
        "            nn.Tanh(),\n",
        "            nn.Linear(32, 128),\n",
        "            nn.Tanh(),\n",
        "            nn.Linear(128, 512),\n",
        "            nn.Tanh(),\n",
        "            nn.Linear(512, 784),\n",
        "            nn.Sigmoid(),\n",
        "        )\n",
        "\n",
        "    def forward(self, x):\n",
        "        x = self.normalize(x).cuda()\n",
        "        x = self.encoder(x)\n",
        "        x = self.decoder(x)\n",
        "        return x"
      ]
    },
    {
      "cell_type": "markdown",
      "metadata": {
        "id": "Wn9mNzZtiPmr"
      },
      "source": [
        "## 4. Define the hyperparameters and load datas"
      ]
    },
    {
      "cell_type": "markdown",
      "metadata": {
        "id": "MErGqudR89Rf"
      },
      "source": [
        "### 4.1. Load MNIST dataset and create data loaders"
      ]
    },
    {
      "cell_type": "code",
      "execution_count": null,
      "metadata": {
        "colab": {
          "base_uri": "https://localhost:8080/"
        },
        "id": "f2MfXIZuqzhu",
        "outputId": "66bf5b1a-5acd-46ce-9d2e-5b8cd9bf7d69"
      },
      "outputs": [
        {
          "name": "stdout",
          "output_type": "stream",
          "text": [
            "Downloading http://yann.lecun.com/exdb/mnist/train-images-idx3-ubyte.gz\n",
            "Downloading http://yann.lecun.com/exdb/mnist/train-images-idx3-ubyte.gz to ./data/MNIST/raw/train-images-idx3-ubyte.gz\n"
          ]
        },
        {
          "name": "stderr",
          "output_type": "stream",
          "text": [
            "100%|██████████| 9912422/9912422 [00:00<00:00, 53182533.20it/s]\n"
          ]
        },
        {
          "name": "stdout",
          "output_type": "stream",
          "text": [
            "Extracting ./data/MNIST/raw/train-images-idx3-ubyte.gz to ./data/MNIST/raw\n",
            "\n",
            "Downloading http://yann.lecun.com/exdb/mnist/train-labels-idx1-ubyte.gz\n",
            "Downloading http://yann.lecun.com/exdb/mnist/train-labels-idx1-ubyte.gz to ./data/MNIST/raw/train-labels-idx1-ubyte.gz\n"
          ]
        },
        {
          "name": "stderr",
          "output_type": "stream",
          "text": [
            "100%|██████████| 28881/28881 [00:00<00:00, 28435608.88it/s]\n"
          ]
        },
        {
          "name": "stdout",
          "output_type": "stream",
          "text": [
            "Extracting ./data/MNIST/raw/train-labels-idx1-ubyte.gz to ./data/MNIST/raw\n",
            "\n",
            "Downloading http://yann.lecun.com/exdb/mnist/t10k-images-idx3-ubyte.gz\n",
            "Downloading http://yann.lecun.com/exdb/mnist/t10k-images-idx3-ubyte.gz to ./data/MNIST/raw/t10k-images-idx3-ubyte.gz\n"
          ]
        },
        {
          "name": "stderr",
          "output_type": "stream",
          "text": [
            "100%|██████████| 1648877/1648877 [00:00<00:00, 70561680.17it/s]"
          ]
        },
        {
          "name": "stdout",
          "output_type": "stream",
          "text": [
            "Extracting ./data/MNIST/raw/t10k-images-idx3-ubyte.gz to ./data/MNIST/raw\n"
          ]
        },
        {
          "name": "stderr",
          "output_type": "stream",
          "text": [
            "\n"
          ]
        },
        {
          "name": "stdout",
          "output_type": "stream",
          "text": [
            "\n",
            "Downloading http://yann.lecun.com/exdb/mnist/t10k-labels-idx1-ubyte.gz\n",
            "Downloading http://yann.lecun.com/exdb/mnist/t10k-labels-idx1-ubyte.gz to ./data/MNIST/raw/t10k-labels-idx1-ubyte.gz\n"
          ]
        },
        {
          "name": "stderr",
          "output_type": "stream",
          "text": [
            "100%|██████████| 4542/4542 [00:00<00:00, 14976830.79it/s]\n"
          ]
        },
        {
          "name": "stdout",
          "output_type": "stream",
          "text": [
            "Extracting ./data/MNIST/raw/t10k-labels-idx1-ubyte.gz to ./data/MNIST/raw\n",
            "\n"
          ]
        }
      ],
      "source": [
        "transform = transforms.Compose([transforms.ToTensor()])\n",
        "\n",
        "train_dataset = torchvision.datasets.MNIST(root='./data', train=True, transform=transform, download=True)\n",
        "test_dataset = torchvision.datasets.MNIST(root='./data', train=False, transform=transform, download=True)\n",
        "\n",
        "# Create data loaders for training and testing\n",
        "batch_size = 64\n",
        "train_loader = torch.utils.data.DataLoader(train_dataset, batch_size=batch_size, shuffle=True)\n",
        "test_loader = torch.utils.data.DataLoader(test_dataset, batch_size=batch_size, shuffle=False)"
      ]
    },
    {
      "cell_type": "markdown",
      "metadata": {
        "id": "UdX_vNNr8FNQ"
      },
      "source": [
        "### 4.2. Load weights and autoencoder if already saved (*Optional*)"
      ]
    },
    {
      "cell_type": "code",
      "execution_count": null,
      "metadata": {
        "id": "3I-PSvjv8DX2"
      },
      "outputs": [],
      "source": [
        "# Load the weightslist if already calculated\n",
        "if not 'mse_weights' in globals():\n",
        "    mse_weights = torch.load('mse_weights.pt',map_location=torch.device(device))\n",
        "    # print(len(mse_weights))\n",
        "\n",
        "# Load the trained autoencoder model if already trained\n",
        "if not 'autoencoder' in globals():\n",
        "    autoencoder = CustomAutoencoder().to(device)\n",
        "    autoencoder.load_state_dict(torch.load('autoencoder_model.pth'))\n",
        "    autoencoder.eval()  # Set the model to evaluation mode"
      ]
    },
    {
      "cell_type": "markdown",
      "metadata": {
        "id": "NKmmbk34jSto"
      },
      "source": [
        "## 5. Calculate weights for each pixel"
      ]
    },
    {
      "cell_type": "code",
      "execution_count": null,
      "metadata": {
        "colab": {
          "base_uri": "https://localhost:8080/"
        },
        "id": "t_Q7E4tHq2DO",
        "outputId": "7826555c-42ad-4876-cffb-ce3a186c773b"
      },
      "outputs": [
        {
          "name": "stdout",
          "output_type": "stream",
          "text": [
            "sub set num:  60\n"
          ]
        }
      ],
      "source": [
        "from math import exp\n",
        "\n",
        "# Select a subset to calculate weights for each pixel\n",
        "sub_set_dataset = torch.utils.data.Subset(train_dataset,list(range(0, len(train_dataset), 1000))) # num: 60\n",
        "print('subset num: ',len(sub_set_dataset))\n",
        "\n",
        "i = 0\n",
        "mse_weights = torch.zeros(28 * 28)\n",
        "for i in range(28 * 28):\n",
        "    # calculate weight for each pixel\n",
        "    sum_1 = sum_2 = 0.0\n",
        "    num_1 = num_2 = 0.0\n",
        "    for p in sub_set_dataset:\n",
        "        x_p, l_p = p\n",
        "        x_p = x_p.view(-1)\n",
        "        for q in sub_set_dataset:\n",
        "            x_q, l_q = q\n",
        "            x_q = x_q.view(-1)\n",
        "            if l_p == l_q:\n",
        "                num_1 += 1\n",
        "                sum_1 += exp(-((x_p[i] - x_q[i]) ** 2))\n",
        "            else:\n",
        "                num_2 += 1\n",
        "                sum_2 += 1 - exp(-((x_p[i] - x_q[i]) ** 2))\n",
        "    mse_weights[i] = (sum_1 / num_1) * (sum_2 / num_2)\n",
        "\n",
        "# Move weights tensor to GPU\n",
        "mse_weights = mse_weights.to(device)\n",
        "\n",
        "# Save results\n",
        "torch.save(mse_weights, 'mse_weights.pt')"
      ]
    },
    {
      "cell_type": "code",
      "execution_count": null,
      "metadata": {
        "colab": {
          "base_uri": "https://localhost:8080/",
          "height": 507
        },
        "id": "VivF8fAIq49B",
        "outputId": "bdc34fbc-3571-40ac-dffa-d58dcb9eae74"
      },
      "outputs": [
        {
          "data": {
            "image/png": "[encoded data removed]",
            "text/plain": [
              "<Figure size 600x600 with 2 Axes>"
            ]
          },
          "metadata": {},
          "output_type": "display_data"
        }
      ],
      "source": [
        "import matplotlib.pyplot as plt\n",
        "\n",
        "# Reshape the 'weights' tensor into a 28x28 grid\n",
        "weight_grid = mse_weights.view(28, 28).cpu().numpy()\n",
        "\n",
        "# Create a figure and axis for visualization\n",
        "fig, ax = plt.subplots(figsize=(6, 6))\n",
        "ax.imshow(weight_grid, cmap='viridis')  # You can choose a colormap of your choice\n",
        "\n",
        "# Show the colorbar if needed\n",
        "cbar = ax.figure.colorbar(ax.imshow(weight_grid), ax=ax)\n",
        "cbar.ax.set_ylabel('Weight Values')\n",
        "\n",
        "# Show the plot\n",
        "plt.title(\"Weight Visualization\")\n",
        "plt.show()\n"
      ]
    },
    {
      "cell_type": "markdown",
      "metadata": {
        "id": "3CZ5I1csj7Ds"
      },
      "source": [
        "## 6. Define customize loss function"
      ]
    },
    {
      "cell_type": "code",
      "execution_count": null,
      "metadata": {
        "id": "WwsPwXFtrC_s"
      },
      "outputs": [],
      "source": [
        "from torch import Tensor\n",
        "\n",
        "beta = 0.00001\n",
        "\n",
        "class CustomAutoencoderLoss(nn.modules.loss._Loss):\n",
        "    def __init__(self, mse_weight: Tensor):\n",
        "        super(CustomAutoencoderLoss, self).__init__()\n",
        "        self.mse_weight = mse_weight\n",
        "\n",
        "    def forward(self, input: Tensor, target: Tensor, parameters):\n",
        "        # Wm weighted MSE loss\n",
        "        L_cmse = torch.sum(self.mse_weight * ((input - target) ** 2)) / len(self.mse_weight)\n",
        "\n",
        "        # L2 regularization\n",
        "        l2_regularization = sum(torch.norm(param, p=2) for param in parameters)\n",
        "\n",
        "        loss = L_cmse + beta * l2_regularization\n",
        "\n",
        "        return loss"
      ]
    },
    {
      "cell_type": "markdown",
      "metadata": {
        "id": "aJ-Nx5NWkDep"
      },
      "source": [
        "## 7. Train and test the autoencoder model"
      ]
    },
    {
      "cell_type": "code",
      "execution_count": null,
      "metadata": {
        "id": "bfkAxFw1yYuR"
      },
      "outputs": [],
      "source": [
        "# define autoencoder\n",
        "autoencoder = CustomAutoencoder().to(device)\n",
        "\n",
        "# define loss funcion\n",
        "custom_loss = CustomAutoencoderLoss(mse_weights).to(device)\n",
        "\n",
        "# define optimizer\n",
        "learning_rate = 0.003\n",
        "optimizer = optim.Adam(autoencoder.parameters(), lr=learning_rate)\n"
      ]
    },
    {
      "cell_type": "code",
      "execution_count": null,
      "metadata": {
        "colab": {
          "base_uri": "https://localhost:8080/"
        },
        "id": "yIoycgyIyako",
        "outputId": "83c07d12-349d-44fe-8878-52a01590ce17"
      },
      "outputs": [
        {
          "name": "stdout",
          "output_type": "stream",
          "text": [
            "Epoch [1/100], Loss: 0.1579\n",
            "Epoch [2/100], Loss: 0.1568\n",
            "Epoch [3/100], Loss: 0.1411\n",
            "Epoch [4/100], Loss: 0.1228\n",
            "Epoch [5/100], Loss: 0.1229\n",
            "Epoch [6/100], Loss: 0.1206\n",
            "Epoch [7/100], Loss: 0.1095\n",
            "Epoch [8/100], Loss: 0.1054\n",
            "Epoch [9/100], Loss: 0.1147\n",
            "Epoch [10/100], Loss: 0.1009\n",
            "Epoch [11/100], Loss: 0.0901\n",
            "Epoch [12/100], Loss: 0.1163\n",
            "Epoch [13/100], Loss: 0.0940\n",
            "Epoch [14/100], Loss: 0.1129\n",
            "Epoch [15/100], Loss: 0.1007\n",
            "Epoch [16/100], Loss: 0.1036\n",
            "Epoch [17/100], Loss: 0.1262\n",
            "Epoch [18/100], Loss: 0.1092\n",
            "Epoch [19/100], Loss: 0.1127\n",
            "Epoch [20/100], Loss: 0.1131\n",
            "Epoch [21/100], Loss: 0.1057\n",
            "Epoch [22/100], Loss: 0.1013\n",
            "Epoch [23/100], Loss: 0.1048\n",
            "Epoch [24/100], Loss: 0.1049\n",
            "Epoch [25/100], Loss: 0.1124\n",
            "Epoch [26/100], Loss: 0.0975\n",
            "Epoch [27/100], Loss: 0.1059\n",
            "Epoch [28/100], Loss: 0.0971\n",
            "Epoch [29/100], Loss: 0.0952\n",
            "Epoch [30/100], Loss: 0.0999\n",
            "Epoch [31/100], Loss: 0.0975\n",
            "Epoch [32/100], Loss: 0.0915\n",
            "Epoch [33/100], Loss: 0.0934\n",
            "Epoch [34/100], Loss: 0.1025\n",
            "Epoch [35/100], Loss: 0.0982\n",
            "Epoch [36/100], Loss: 0.1112\n",
            "Epoch [37/100], Loss: 0.0889\n",
            "Epoch [38/100], Loss: 0.1112\n",
            "Epoch [39/100], Loss: 0.0903\n",
            "Epoch [40/100], Loss: 0.0992\n",
            "Epoch [41/100], Loss: 0.1021\n",
            "Epoch [42/100], Loss: 0.0890\n",
            "Epoch [43/100], Loss: 0.1050\n",
            "Epoch [44/100], Loss: 0.1006\n",
            "Epoch [45/100], Loss: 0.1027\n",
            "Epoch [46/100], Loss: 0.0965\n",
            "Epoch [47/100], Loss: 0.0964\n",
            "Epoch [48/100], Loss: 0.0984\n",
            "Epoch [49/100], Loss: 0.1226\n",
            "Epoch [50/100], Loss: 0.0931\n",
            "Epoch [51/100], Loss: 0.0883\n",
            "Epoch [52/100], Loss: 0.1077\n",
            "Epoch [53/100], Loss: 0.0897\n",
            "Epoch [54/100], Loss: 0.0892\n",
            "Epoch [55/100], Loss: 0.0940\n",
            "Epoch [56/100], Loss: 0.1133\n",
            "Epoch [57/100], Loss: 0.1053\n",
            "Epoch [58/100], Loss: 0.0970\n",
            "Epoch [59/100], Loss: 0.1005\n",
            "Epoch [60/100], Loss: 0.0936\n",
            "Epoch [61/100], Loss: 0.1013\n",
            "Epoch [62/100], Loss: 0.1171\n",
            "Epoch [63/100], Loss: 0.0965\n",
            "Epoch [64/100], Loss: 0.0825\n",
            "Epoch [65/100], Loss: 0.0930\n",
            "Epoch [66/100], Loss: 0.1034\n",
            "Epoch [67/100], Loss: 0.0943\n",
            "Epoch [68/100], Loss: 0.0972\n",
            "Epoch [69/100], Loss: 0.0888\n",
            "Epoch [70/100], Loss: 0.0906\n",
            "Epoch [71/100], Loss: 0.0857\n",
            "Epoch [72/100], Loss: 0.1036\n",
            "Epoch [73/100], Loss: 0.1011\n",
            "Epoch [74/100], Loss: 0.0850\n",
            "Epoch [75/100], Loss: 0.0969\n",
            "Epoch [76/100], Loss: 0.1018\n",
            "Epoch [77/100], Loss: 0.1028\n",
            "Epoch [78/100], Loss: 0.0874\n",
            "Epoch [79/100], Loss: 0.1143\n",
            "Epoch [80/100], Loss: 0.0965\n",
            "Epoch [81/100], Loss: 0.1120\n",
            "Epoch [82/100], Loss: 0.1003\n",
            "Epoch [83/100], Loss: 0.1201\n",
            "Epoch [84/100], Loss: 0.0963\n",
            "Epoch [85/100], Loss: 0.1068\n",
            "Epoch [86/100], Loss: 0.0974\n",
            "Epoch [87/100], Loss: 0.1034\n",
            "Epoch [88/100], Loss: 0.1142\n",
            "Epoch [89/100], Loss: 0.0929\n",
            "Epoch [90/100], Loss: 0.0915\n",
            "Epoch [91/100], Loss: 0.0994\n",
            "Epoch [92/100], Loss: 0.0919\n",
            "Epoch [93/100], Loss: 0.0952\n",
            "Epoch [94/100], Loss: 0.1007\n",
            "Epoch [95/100], Loss: 0.0887\n",
            "Epoch [96/100], Loss: 0.0990\n",
            "Epoch [97/100], Loss: 0.1034\n",
            "Epoch [98/100], Loss: 0.0962\n",
            "Epoch [99/100], Loss: 0.1116\n",
            "Epoch [100/100], Loss: 0.1026\n"
          ]
        }
      ],
      "source": [
        "num_epochs = 100\n",
        "\n",
        "# Train the model\n",
        "for epoch in range(num_epochs):\n",
        "    for (inputs, _) in train_loader:\n",
        "        inputs = inputs.view(inputs.size(0), -1).cuda()\n",
        "        outputs = autoencoder(inputs)\n",
        "        loss = custom_loss(inputs,outputs.cuda(),autoencoder.parameters())  # Pass the encoded representation\n",
        "        optimizer.zero_grad()\n",
        "        loss.backward()\n",
        "        optimizer.step()\n",
        "    print(f\"Epoch [{epoch + 1}/{num_epochs}], Loss: {loss.item():.4f}\")"
      ]
    },
    {
      "cell_type": "code",
      "execution_count": null,
      "metadata": {
        "id": "G5yRF0Vg44KE"
      },
      "outputs": [],
      "source": [
        "# Save the trained model\n",
        "torch.save(autoencoder.state_dict(), 'autoencoder_model.pth')"
      ]
    },
    {
      "cell_type": "markdown",
      "metadata": {
        "id": "Ql02Tq5KlfMy"
      },
      "source": [
        "## 8. Visualize some reconstructed images"
      ]
    },
    {
      "cell_type": "code",
      "execution_count": null,
      "metadata": {
        "colab": {
          "base_uri": "https://localhost:8080/",
          "height": 214
        },
        "id": "H78_2sIczLoe",
        "outputId": "67721417-ff4c-4f02-cf91-31ab48bb76ca"
      },
      "outputs": [
        {
          "data": {
            "image/png": "[encoded data removed]",
            "text/plain": [
              "<Figure size 1000x200 with 20 Axes>"
            ]
          },
          "metadata": {},
          "output_type": "display_data"
        }
      ],
      "source": [
        "import matplotlib.pyplot as plt\n",
        "\n",
        "with torch.no_grad():\n",
        "    for (inputs, _) in train_loader:\n",
        "        inputs = inputs.view(inputs.size(0), -1).to(device)\n",
        "        outputs = autoencoder(inputs)\n",
        "        break\n",
        "\n",
        "    fig, axes = plt.subplots(2, 10, figsize=(10, 2))\n",
        "    for i in range(10):\n",
        "        axes[0, i].imshow(inputs[i].view(28, 28).cpu().numpy(), cmap='gray')\n",
        "        axes[1, i].imshow(outputs[i].view(28, 28).cpu().numpy(), cmap='gray')\n",
        "\n",
        "    plt.show()"
      ]
    },
    {
      "cell_type": "markdown",
      "metadata": {
        "id": "0wwNbEKY60pC"
      },
      "source": [
        "## 9. Clustering with K-Means algorithm"
      ]
    },
    {
      "cell_type": "code",
      "execution_count": null,
      "metadata": {
        "id": "FGC8GcFad4Ea"
      },
      "outputs": [],
      "source": [
        "import numpy as np\n",
        "from sklearn.cluster import KMeans\n",
        "from sklearn.metrics import adjusted_rand_score\n",
        "\n",
        "labels = []\n",
        "encoded_data = []\n",
        "\n",
        "for inputs, label in train_loader.dataset:\n",
        "    labels.append(label)\n",
        "    inputs = inputs.view(-1).to(device)\n",
        "    with torch.no_grad():\n",
        "        encoder = autoencoder.encoder(inputs)\n",
        "        encoded_data.append(encoder.cpu().numpy())\n",
        "\n",
        "# Extract the encoded representations from the data\n",
        "encoded_data = np.array(encoded_data)\n",
        "# The labels assigned by K-Means to each data point\n",
        "labels = np.array(labels)\n",
        "\n",
        "# Perform K-Means clustering on the encoded data\n",
        "n_clusters = 10  # number of clusters\n",
        "kmeans = KMeans(n_clusters=n_clusters, random_state=0, n_init=10)\n",
        "cluster_labels = kmeans.fit_predict(encoded_data)\n"
      ]
    },
    {
      "cell_type": "markdown",
      "metadata": {
        "id": "X2my6CtuMA01"
      },
      "source": [
        "## 10. Evaluate our framework"
      ]
    },
    {
      "cell_type": "code",
      "execution_count": null,
      "metadata": {
        "colab": {
          "base_uri": "https://localhost:8080/"
        },
        "id": "6k_tge3H31xQ",
        "outputId": "eab95d6a-408c-410a-d822-6992a054a373"
      },
      "outputs": [
        {
          "name": "stdout",
          "output_type": "stream",
          "text": [
            "Adjusted Rand Index (ARI): 0.4733\n"
          ]
        }
      ],
      "source": [
        "# Calculate the ARI\n",
        "ari = adjusted_rand_score(labels_pred=cluster_labels, labels_true=labels)\n",
        "print(f'Adjusted Rand Index (ARI): {ari:.4f}')"
      ]
    },
    {
      "cell_type": "code",
      "execution_count": null,
      "metadata": {
        "colab": {
          "base_uri": "https://localhost:8080/"
        },
        "id": "tJhnmC6_ZFhp",
        "outputId": "021592fd-c442-43ef-ee9a-5560af0323be"
      },
      "outputs": [
        {
          "name": "stdout",
          "output_type": "stream",
          "text": [
            "Adjusted Rand Index (ARI): 0.0504\n"
          ]
        }
      ],
      "source": [
        "data, labels = next(iter(train_loader))\n",
        "data = data.view(data.size(0), -1).to(device)\n",
        "labels = labels.numpy()\n",
        "\n",
        "# Sets the module in evaluation mode\n",
        "with torch.no_grad():\n",
        "    autoencoder.eval()\n",
        "    encoded_data = autoencoder.encoder(data).cpu().numpy()\n",
        "\n",
        "kmeans_enocoded = KMeans(n_clusters=10, n_init=10)\n",
        "cluster_labels = kmeans_enocoded.fit_predict(encoded_data)\n",
        "\n",
        "# Calculate the ARI\n",
        "ari = adjusted_rand_score(labels_pred=cluster_labels, labels_true=labels)\n",
        "print(f'Adjusted Rand Index (ARI): {ari:.4f}')"
      ]
    },
    {
      "cell_type": "code",
      "execution_count": null,
      "metadata": {
        "colab": {
          "base_uri": "https://localhost:8080/"
        },
        "id": "ziP0xdewgOSi",
        "outputId": "3a4a5a54-922e-42cc-e59a-94fc527a77ab"
      },
      "outputs": [
        {
          "name": "stdout",
          "output_type": "stream",
          "text": [
            "Adjusted Rand Index (ARI): 0.2048\n"
          ]
        }
      ],
      "source": [
        "# Cluster K-Means with 784 inputs\n",
        "kmeans_enocoded = KMeans(n_clusters=10, n_init=10)\n",
        "cluster_labels = kmeans_enocoded.fit_predict(data)\n",
        "# Calculate the ARI\n",
        "ari = adjusted_rand_score(labels_pred=cluster_labels, labels_true=labels)\n",
        "print(f'Adjusted Rand Index (ARI): {ari:.4f}')"
      ]
    }
  ],
  "metadata": {
    "colab": {
      "provenance": []
    },
    "kernelspec": {
      "display_name": "Python 3",
      "name": "python3"
    },
    "language_info": {
      "name": "python"
    }
  },
  "nbformat": 4,
  "nbformat_minor": 0
}
